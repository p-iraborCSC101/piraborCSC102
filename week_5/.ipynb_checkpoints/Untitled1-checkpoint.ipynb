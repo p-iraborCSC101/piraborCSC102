{
 "cells": [
  {
   "cell_type": "code",
   "execution_count": 9,
   "metadata": {},
   "outputs": [
    {
     "name": "stdout",
     "output_type": "stream",
     "text": [
      "Enter which table you want to see: \n",
      " 1. Girls \n",
      " 2. Boys \n",
      "1\n",
      "You picked 1\n"
     ]
    }
   ],
   "source": [
    "name = input(\"Enter which table you want to see: \\n 1. Girls \\n 2. Boys \\n\")\n",
    "print(f\"You picked {name}\")\n",
    "\n",
    "gname = ['Samantha','Jada','Jane','Claire','Elizabeth','Mary','Susan','Waje','Taibat','Lilian']\n",
    "gage = ['17','16','17','18','16','18','17','20','19','17']\n",
    "gheight = ['5.5','6.0','5.4','5.9','5.6','5.5','6.1','6.0','5.7','5.5']\n",
    "gscore = ['80','85','70','60','76','66','87','95','50','49']\n",
    "\n",
    "if name == 1:\n",
    "    print(\"NAME | AGE | HEIGHT | SCORE\")\n",
    "    \n",
    "    for g in len(gname):\n",
    "        print(gname[g], gage[g])\n"
   ]
  },
  {
   "cell_type": "code",
   "execution_count": null,
   "metadata": {},
   "outputs": [],
   "source": []
  }
 ],
 "metadata": {
  "kernelspec": {
   "display_name": "Python 3",
   "language": "python",
   "name": "python3"
  },
  "language_info": {
   "codemirror_mode": {
    "name": "ipython",
    "version": 3
   },
   "file_extension": ".py",
   "mimetype": "text/x-python",
   "name": "python",
   "nbconvert_exporter": "python",
   "pygments_lexer": "ipython3",
   "version": "3.8.3"
  }
 },
 "nbformat": 4,
 "nbformat_minor": 4
}
