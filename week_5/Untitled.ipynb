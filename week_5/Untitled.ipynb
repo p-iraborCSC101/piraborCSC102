{
 "cells": [
  {
   "cell_type": "code",
   "execution_count": 7,
   "metadata": {},
   "outputs": [
    {
     "ename": "SyntaxError",
     "evalue": "invalid syntax (<ipython-input-7-ce722ededf97>, line 14)",
     "output_type": "error",
     "traceback": [
      "\u001b[1;36m  File \u001b[1;32m\"<ipython-input-7-ce722ededf97>\"\u001b[1;36m, line \u001b[1;32m14\u001b[0m\n\u001b[1;33m    else exp < 10 and age < 35:\u001b[0m\n\u001b[1;37m         ^\u001b[0m\n\u001b[1;31mSyntaxError\u001b[0m\u001b[1;31m:\u001b[0m invalid syntax\n"
     ]
    }
   ],
   "source": [
    "exp = float(input(\"Welcome! \\nEnter your years of experience: \"))\n",
    "age = float(input(\"Enter your age: \"))\n",
    "atr = 'annual tax revenue'\n",
    "\n",
    "if exp > 25 and age >= 55:\n",
    "    print(f\"Your {atr} is $5,600,000\")\n",
    "\n",
    "elif exp > 20 and age >= 45:\n",
    "    print(f\"Your {atr} is $4,480,000\")\n",
    "    \n",
    "elif exp > 10 and age >= 35:\n",
    "    print(f\"Your {atr} is $1,500,000\")\n",
    "\n",
    "else exp < 10 and age < 35:\n",
    "    print(f\"Your {atr} is $550,000\")\n",
    "    \n"
   ]
  },
  {
   "cell_type": "code",
   "execution_count": null,
   "metadata": {},
   "outputs": [],
   "source": []
  },
  {
   "cell_type": "code",
   "execution_count": null,
   "metadata": {},
   "outputs": [],
   "source": []
  }
 ],
 "metadata": {
  "kernelspec": {
   "display_name": "Python 3",
   "language": "python",
   "name": "python3"
  },
  "language_info": {
   "codemirror_mode": {
    "name": "ipython",
    "version": 3
   },
   "file_extension": ".py",
   "mimetype": "text/x-python",
   "name": "python",
   "nbconvert_exporter": "python",
   "pygments_lexer": "ipython3",
   "version": "3.8.3"
  }
 },
 "nbformat": 4,
 "nbformat_minor": 4
}
