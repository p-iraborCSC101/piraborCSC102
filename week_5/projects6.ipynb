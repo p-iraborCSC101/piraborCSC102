{
 "cells": [
  {
   "cell_type": "code",
   "execution_count": 8,
   "metadata": {},
   "outputs": [
    {
     "name": "stdout",
     "output_type": "stream",
     "text": [
      "Welcome! \n",
      "Enter your years of experience: 6\n",
      "Enter your age: 30\n",
      "Your annual tax revenue is $550,000\n"
     ]
    }
   ],
   "source": [
    "exp = float(input(\"Welcome! \\nEnter your years of experience: \"))\n",
    "age = float(input(\"Enter your age: \"))\n",
    "atr = 'annual tax revenue'\n",
    "\n",
    "if exp > 25 and age >= 55:\n",
    "    print(f\"Your {atr} is $5,600,000\")\n",
    "\n",
    "elif exp > 20 and age >= 45:\n",
    "    print(f\"Your {atr} is $4,480,000\")\n",
    "    \n",
    "elif exp > 10 and age >= 35:\n",
    "    print(f\"Your {atr} is $1,500,000\")\n",
    "\n",
    "else:\n",
    "    print(f\"Your {atr} is $550,000\")\n",
    "    \n"
   ]
  },
  {
   "cell_type": "code",
   "execution_count": 45,
   "metadata": {},
   "outputs": [
    {
     "name": "stdout",
     "output_type": "stream",
     "text": [
      "NAME        | AGE        | HEIGHT      | SCORE    \n",
      "Samantha    | 17         | 5.5         | 80\n",
      "Jada        | 16         | 6.0         | 85\n",
      "Jane        | 17         | 5.4         | 70\n",
      "Claire      | 18         | 5.9         | 60\n",
      "Elizabeth   | 16         | 5.6         | 76\n",
      "Mary        | 18         | 5.5         | 66\n",
      "Susan       | 17         | 6.1         | 87\n",
      "Waje        | 20         | 6.0         | 95\n",
      "Taibat      | 19         | 5.7         | 50\n",
      "Lilian      | 17         | 5.5         | 49\n"
     ]
    }
   ],
   "source": [
    "name = ['Samantha   ', 'Jada       ', 'Jane       ', 'Claire     ', \n",
    "        'Elizabeth  ', 'Mary       ', 'Susan      ', 'Waje       ', 'Taibat     ', 'Lilian     ']\n",
    "\n",
    "age = ['| 17        ', '| 16        ', '| 17        ', '| 18        ', '| 16        ', \n",
    "       '| 18        ', '| 17        ', '| 20        ', '| 19        ', '| 17        ']\n",
    "\n",
    "height = ['| 5.5        ', '| 6.0        ', '| 5.4        ', '| 5.9        ', \n",
    "          '| 5.6        ', '| 5.5        ', '| 6.1        ', '| 6.0        ', '| 5.7        ', '| 5.5        ']\n",
    "\n",
    "score = ['| 80', '| 85', '| 70', '| 60', '| 76', '| 66', '| 87', '| 95', '| 50', '| 49']\n",
    "\n",
    "print('NAME        | AGE        | HEIGHT      | SCORE    ')\n",
    "for i in range(0,10):\n",
    "    print(name[i],         age[i],          height[i],          score[i])"
   ]
  },
  {
   "cell_type": "code",
   "execution_count": null,
   "metadata": {},
   "outputs": [],
   "source": []
  },
  {
   "cell_type": "code",
   "execution_count": null,
   "metadata": {},
   "outputs": [],
   "source": []
  }
 ],
 "metadata": {
  "kernelspec": {
   "display_name": "Python 3",
   "language": "python",
   "name": "python3"
  },
  "language_info": {
   "codemirror_mode": {
    "name": "ipython",
    "version": 3
   },
   "file_extension": ".py",
   "mimetype": "text/x-python",
   "name": "python",
   "nbconvert_exporter": "python",
   "pygments_lexer": "ipython3",
   "version": "3.8.3"
  }
 },
 "nbformat": 4,
 "nbformat_minor": 4
}
