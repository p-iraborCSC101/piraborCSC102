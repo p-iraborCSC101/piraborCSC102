{
 "cells": [
  {
   "cell_type": "code",
   "execution_count": 3,
   "metadata": {},
   "outputs": [
    {
     "name": "stdout",
     "output_type": "stream",
     "text": [
      "Enter the number of oranges you want to buy: 45\n"
     ]
    }
   ],
   "source": [
    "class Oranges:\n",
    "    def __init__(self, stock):\n",
    "        self.stock = stock\n",
    "        \n",
    "    def buy_oranges(self):\n",
    "        number = int(input('Enter the number of oranges you want to buy: '))\n",
    "        \n",
    "        if number >= self.stock:\n",
    "            cost = 30\n",
    "            total_cost = cost * number\n",
    "            print(f'Total cost is {total_cost}')\n",
    "            \n",
    "        \n",
    "        \n",
    "        \n",
    "fruit = Oranges(50)\n",
    "fruit.buy_oranges()\n",
    "            \n",
    "            \n",
    "        "
   ]
  },
  {
   "cell_type": "code",
   "execution_count": null,
   "metadata": {},
   "outputs": [],
   "source": []
  }
 ],
 "metadata": {
  "kernelspec": {
   "display_name": "Python 3",
   "language": "python",
   "name": "python3"
  },
  "language_info": {
   "codemirror_mode": {
    "name": "ipython",
    "version": 3
   },
   "file_extension": ".py",
   "mimetype": "text/x-python",
   "name": "python",
   "nbconvert_exporter": "python",
   "pygments_lexer": "ipython3",
   "version": "3.8.3"
  }
 },
 "nbformat": 4,
 "nbformat_minor": 4
}
