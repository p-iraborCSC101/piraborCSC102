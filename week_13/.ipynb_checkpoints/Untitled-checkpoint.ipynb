{
 "cells": [
  {
   "cell_type": "code",
   "execution_count": null,
   "metadata": {},
   "outputs": [],
   "source": [
    "#question 1\n",
    "import sys\n",
    "!{sys.executable} -m pip install --upgrade pandas\n",
    "\n",
    "class SMIS:\n",
    "    def __init__(self):\n",
    "        listname = []\n",
    "        listmatric = []\n",
    "        listdep = []\n",
    "        listlevel = []\n",
    "        \n",
    "        y = int(input('Enter the number of students: '))\n",
    "        x = 0\n",
    "        while x < y:\n",
    "            name = input('\\nEnter name: ')\n",
    "            listname.append(name)\n",
    "            matric = input('Enter matric: ')\n",
    "            listmatric.append(matric)\n",
    "            dep = input('Enter department: ')\n",
    "            listdep.append(dep)\n",
    "            level = input('Enter level: ')\n",
    "            listlevel.append(level)\n",
    "            \n",
    "            x += 1\n",
    "        self.dyct =  {}\n",
    "        self.dyct['Name'] = listname\n",
    "        self.dyct['Matric No'] = listmatric\n",
    "        self.dyct['Department'] = listdep\n",
    "        self.dyct['Level'] = listlevel\n",
    "        \n",
    "    def data_frame(self):\n",
    "        app = self.dyct\n",
    "        print(app)\n",
    "        df = pandas.DataFrame(app)\n",
    "e = SMIS()\n",
    "e.data_frame()"
   ]
  },
  {
   "cell_type": "code",
   "execution_count": null,
   "metadata": {},
   "outputs": [],
   "source": []
  },
  {
   "cell_type": "code",
   "execution_count": null,
   "metadata": {},
   "outputs": [],
   "source": []
  },
  {
   "cell_type": "code",
   "execution_count": null,
   "metadata": {},
   "outputs": [],
   "source": []
  }
 ],
 "metadata": {
  "kernelspec": {
   "display_name": "Python 3",
   "language": "python",
   "name": "python3"
  },
  "language_info": {
   "codemirror_mode": {
    "name": "ipython",
    "version": 3
   },
   "file_extension": ".py",
   "mimetype": "text/x-python",
   "name": "python",
   "nbconvert_exporter": "python",
   "pygments_lexer": "ipython3",
   "version": "3.8.5"
  }
 },
 "nbformat": 4,
 "nbformat_minor": 4
}
