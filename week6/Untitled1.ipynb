{
 "cells": [
  {
   "cell_type": "code",
   "execution_count": 26,
   "metadata": {},
   "outputs": [
    {
     "ename": "SyntaxError",
     "evalue": "invalid syntax (<ipython-input-26-79cce89018bb>, line 1)",
     "output_type": "error",
     "traceback": [
      "\u001b[1;36m  File \u001b[1;32m\"<ipython-input-26-79cce89018bb>\"\u001b[1;36m, line \u001b[1;32m1\u001b[0m\n\u001b[1;33m    girls = {'Samantha' : '17' : '5.5' : '80',\u001b[0m\n\u001b[1;37m                               ^\u001b[0m\n\u001b[1;31mSyntaxError\u001b[0m\u001b[1;31m:\u001b[0m invalid syntax\n"
     ]
    }
   ],
   "source": [
    "\n",
    "\n",
    "girls = {'Samantha' : '17' : '5.5' : '80', \n",
    "        'Jada' : '16' : '6.0' : '85',\n",
    "        'Jane' : '17' : '5.4' : '70',\n",
    "        'Claire' : '18' : '5.9' : '60',\n",
    "        'Elizabeth' : '16' : '5.6' : '76',\n",
    "        'Mary' : '18' : '5.5' : '66',\n",
    "        'Susan' : '17' : '6.1' : '87',\n",
    "        'Waje' : '20' : '6.0' : '95',\n",
    "        'Taibat' : '19' : '5.7' : '50',\n",
    "        'Lilian' : '17' : '5.5' : '49'}\n",
    "\n",
    "boys = {'Charles' : '19' : '5.7' : '74',\n",
    "       'Jude' : '16' : '5.9' : '87',\n",
    "       'James' : '' : '' : '75',\n",
    "       'Kelvin' : '' : '' : '68',\n",
    "       'Biodun' : '' : '' : '66',\n",
    "       'Wale' : '' : '' : '78',\n",
    "       'Kunle' : '' : '' : '87',\n",
    "       'Matthew' : '' : '' : '98',\n",
    "       'Tom' : '' : '' : '54',\n",
    "       'Kayode' : '' : '' : '60'}\n",
    "\n",
    "print(\"NAME | AGE | HEIGHT | SCORE\")\n",
    "\n",
    "if name == '1':\n",
    " for n, a, h, s in girls:\n",
    "    print(n, a, h, girls[s])\n",
    "\n",
    "elif name == 2:\n",
    " print(\"okay\")\n",
    "\n",
    "else:\n",
    " print(\"done\")"
   ]
  },
  {
   "cell_type": "code",
   "execution_count": null,
   "metadata": {},
   "outputs": [],
   "source": []
  }
 ],
 "metadata": {
  "kernelspec": {
   "display_name": "Python 3",
   "language": "python",
   "name": "python3"
  },
  "language_info": {
   "codemirror_mode": {
    "name": "ipython",
    "version": 3
   },
   "file_extension": ".py",
   "mimetype": "text/x-python",
   "name": "python",
   "nbconvert_exporter": "python",
   "pygments_lexer": "ipython3",
   "version": "3.8.3"
  }
 },
 "nbformat": 4,
 "nbformat_minor": 4
}
