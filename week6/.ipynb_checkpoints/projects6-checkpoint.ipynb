{
 "cells": [
  {
   "cell_type": "code",
   "execution_count": 8,
   "metadata": {},
   "outputs": [
    {
     "name": "stdout",
     "output_type": "stream",
     "text": [
      "Welcome! \n",
      "Enter your years of experience: 6\n",
      "Enter your age: 30\n",
      "Your annual tax revenue is $550,000\n"
     ]
    }
   ],
   "source": [
    "exp = float(input(\"Welcome! \\nEnter your years of experience: \"))\n",
    "age = float(input(\"Enter your age: \"))\n",
    "atr = 'annual tax revenue'\n",
    "\n",
    "if exp > 25 and age >= 55:\n",
    "    print(f\"Your {atr} is $5,600,000\")\n",
    "\n",
    "elif exp > 20 and age >= 45:\n",
    "    print(f\"Your {atr} is $4,480,000\")\n",
    "    \n",
    "elif exp > 10 and age >= 35:\n",
    "    print(f\"Your {atr} is $1,500,000\")\n",
    "\n",
    "else:\n",
    "    print(f\"Your {atr} is $550,000\")\n",
    "    \n"
   ]
  },
  {
   "cell_type": "code",
   "execution_count": null,
   "metadata": {},
   "outputs": [],
   "source": []
  },
  {
   "cell_type": "code",
   "execution_count": null,
   "metadata": {},
   "outputs": [],
   "source": []
  }
 ],
 "metadata": {
  "kernelspec": {
   "display_name": "Python 3",
   "language": "python",
   "name": "python3"
  },
  "language_info": {
   "codemirror_mode": {
    "name": "ipython",
    "version": 3
   },
   "file_extension": ".py",
   "mimetype": "text/x-python",
   "name": "python",
   "nbconvert_exporter": "python",
   "pygments_lexer": "ipython3",
   "version": "3.8.3"
  }
 },
 "nbformat": 4,
 "nbformat_minor": 4
}
