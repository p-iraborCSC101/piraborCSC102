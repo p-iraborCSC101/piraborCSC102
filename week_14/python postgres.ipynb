{
 "cells": [
  {
   "cell_type": "markdown",
   "metadata": {},
   "source": [
    "# CONNECTING PYTHON WITH POSTGRES DATABASE "
   ]
  },
  {
   "cell_type": "markdown",
   "metadata": {},
   "source": [
    "### 1. CREATE A DATABSE student_profile"
   ]
  },
  {
   "cell_type": "code",
   "execution_count": 14,
   "metadata": {},
   "outputs": [],
   "source": [
    "import psycopg2\n",
    "\n",
    "# Establish a connection to the PostgreSQL server\n",
    "conn = psycopg2.connect(\n",
    "    host=\"localhost\",\n",
    "    port=\"5432\",\n",
    "    user=\"postgres\",\n",
    "    password=\"csc101\"\n",
    ")\n",
    "\n",
    "# Create a new database\n",
    "new_db_name = \"student_profile3\"\n",
    "conn.autocommit = True\n",
    "cursor = conn.cursor()\n",
    "cursor.execute(f\"CREATE DATABASE {new_db_name};\")\n",
    "\n",
    "cursor.close()\n",
    "\n",
    "\n",
    "# Close the connection\n",
    "conn.close()\n",
    "\n"
   ]
  },
  {
   "cell_type": "markdown",
   "metadata": {},
   "source": [
    "### 2. CREATE A TABLE student_info"
   ]
  },
  {
   "cell_type": "code",
   "execution_count": 15,
   "metadata": {},
   "outputs": [],
   "source": [
    "import psycopg2\n",
    "# Establish a connection to the PostgreSQL server\n",
    "conn = psycopg2.connect(\n",
    "    host=\"localhost\",\n",
    "    port=\"5432\",\n",
    "    database=\"student_profile3\",\n",
    "    user=\"postgres\",\n",
    "    password=\"csc101\"\n",
    ")\n",
    "# Create a cursor object\n",
    "cursor = conn.cursor()\n",
    "\n",
    "# Define the CREATE TABLE statement\n",
    "create_table_query = '''\n",
    "    CREATE TABLE student_info2 (\n",
    "        name varchar,\n",
    "        email varchar,\n",
    "        mat_no varchar  )\n",
    "'''\n",
    "\n",
    "# Execute the CREATE TABLE statement\n",
    "cursor.execute(create_table_query)\n",
    "\n",
    "\n",
    "# Commit the changes\n",
    "conn.commit()\n",
    "\n",
    "# Close the cursor and connection\n",
    "cursor.close()\n",
    "conn.close()"
   ]
  },
  {
   "cell_type": "markdown",
   "metadata": {},
   "source": [
    "### 3. INSERT INTO TABLE student_info"
   ]
  },
  {
   "cell_type": "code",
   "execution_count": 17,
   "metadata": {},
   "outputs": [],
   "source": [
    "import psycopg2\n",
    "\n",
    "# Establish a connection to the PostgreSQL server\n",
    "conn = psycopg2.connect(\n",
    "    host=\"localhost\",\n",
    "    port=\"5432\",\n",
    "    database=\"student_profile3\",\n",
    "    user=\"postgres\",\n",
    "    password=\"csc101\"\n",
    ")\n",
    "\n",
    "# Create a cursor object\n",
    "cursor = conn.cursor()\n",
    "\n",
    "# Define the INSERT statement\n",
    "insert_query = '''\n",
    "    INSERT INTO student_info2 (name, email, mat_no)\n",
    "    VALUES (%s, %s, %s)\n",
    "'''\n",
    "\n",
    "# Define the values to be inserted\n",
    "values = ('Ade Jones', 'ajones@pau.edu.ng', '121234222')\n",
    "\n",
    "# Execute the INSERT statement\n",
    "cursor.execute(insert_query, values)\n",
    "\n",
    "# Commit the changes\n",
    "conn.commit()\n",
    "\n",
    "# Close the cursor and connection\n",
    "cursor.close()\n",
    "conn.close()"
   ]
  },
  {
   "cell_type": "markdown",
   "metadata": {},
   "source": [
    "### 4. SELECT ALL FROM student_info"
   ]
  },
  {
   "cell_type": "code",
   "execution_count": 18,
   "metadata": {},
   "outputs": [
    {
     "name": "stdout",
     "output_type": "stream",
     "text": [
      "Ade Jones | ajones@pau.edu.ng | 121234222\n",
      "Ade Jones | ajones@pau.edu.ng | 121234222\n"
     ]
    }
   ],
   "source": [
    "import psycopg2\n",
    "\n",
    "# Establish a connection to the PostgreSQL server\n",
    "conn = psycopg2.connect(\n",
    "    host=\"localhost\",\n",
    "    port=\"5432\",\n",
    "    database=\"student_profile3\",\n",
    "    user=\"postgres\",\n",
    "    password=\"csc101\"\n",
    ")\n",
    "\n",
    "# Create a cursor object\n",
    "cursor = conn.cursor()\n",
    "\n",
    "# Define the SELECT statement\n",
    "select_query = \"SELECT * FROM student_info2;\"\n",
    "\n",
    "# Execute the SELECT statement\n",
    "cursor.execute(select_query)\n",
    "\n",
    "# Fetch all the rows from the result set\n",
    "rows = cursor.fetchall()\n",
    "\n",
    "# Process the fetched rows\n",
    "for row in rows:\n",
    "    # Access individual columns using index or column names\n",
    "    column1_value = row[0]\n",
    "    column2_value = row[1]\n",
    "    column3_value = row[2]\n",
    "    \n",
    "    print(f\"{column1_value} | {column2_value} | {column3_value}\")\n",
    "\n",
    "# Close the cursor and connection\n",
    "cursor.close()\n",
    "conn.close()\n"
   ]
  },
  {
   "cell_type": "markdown",
   "metadata": {},
   "source": [
    "### 5. DELETE FROM student_info"
   ]
  },
  {
   "cell_type": "code",
   "execution_count": 19,
   "metadata": {},
   "outputs": [],
   "source": [
    "import psycopg2\n",
    "\n",
    "# Establish a connection to the PostgreSQL server\n",
    "conn = psycopg2.connect(\n",
    "    host=\"localhost\",\n",
    "    port=\"5432\",\n",
    "    database=\"student_profile3\",\n",
    "    user=\"postgres\",\n",
    "    password=\"csc101\"\n",
    ")\n",
    "\n",
    "# Create a cursor object\n",
    "cursor = conn.cursor()\n",
    "\n",
    "# Define the DELETE statement\n",
    "delete_query = \"DELETE FROM student_info2;\"\n",
    "\n",
    "# Execute the DELETE statement\n",
    "cursor.execute(delete_query)\n",
    "\n",
    "# Commit the changes\n",
    "conn.commit()\n",
    "\n",
    "# Close the cursor and connection\n",
    "cursor.close()\n",
    "conn.close()\n"
   ]
  },
  {
   "cell_type": "markdown",
   "metadata": {},
   "source": [
    "# CLASS PROJECT I\n",
    "\n",
    "\n"
   ]
  },
  {
   "cell_type": "markdown",
   "metadata": {},
   "source": [
    "<ul>\n",
    "    <li>Create a database called <b><i>mtn_nigeria</i></b></li>\n",
    "<li>Create a table called <b><i>customer_info</i></b></li>\n",
    "<li>Insert the following customer information into the database</li>\n",
    "</ul>\n"
   ]
  },
  {
   "cell_type": "code",
   "execution_count": 20,
   "metadata": {},
   "outputs": [
    {
     "ename": "TypeError",
     "evalue": "not all arguments converted during string formatting",
     "output_type": "error",
     "traceback": [
      "\u001b[1;31m---------------------------------------------------------------------------\u001b[0m",
      "\u001b[1;31mTypeError\u001b[0m                                 Traceback (most recent call last)",
      "\u001b[1;32m<ipython-input-20-d35ce9987b8a>\u001b[0m in \u001b[0;36m<module>\u001b[1;34m\u001b[0m\n\u001b[0;32m     55\u001b[0m \u001b[0mvalues\u001b[0m \u001b[1;33m=\u001b[0m \u001b[1;33m(\u001b[0m\u001b[1;34m'Favour Okpara-Ngbo'\u001b[0m\u001b[1;33m,\u001b[0m \u001b[1;34m'fokpara-ngbo@mtn.com'\u001b[0m\u001b[1;33m,\u001b[0m \u001b[1;34m'Lagos'\u001b[0m\u001b[1;33m,\u001b[0m \u001b[1;34m'08038212938'\u001b[0m\u001b[1;33m)\u001b[0m\u001b[1;33m,\u001b[0m \u001b[1;33m(\u001b[0m\u001b[1;34m'Joshua Asekhauno'\u001b[0m\u001b[1;33m,\u001b[0m \u001b[1;34m'jasekhuano@mtn.com'\u001b[0m\u001b[1;33m,\u001b[0m \u001b[1;34m'Port-Harcourt'\u001b[0m\u001b[1;33m,\u001b[0m \u001b[1;34m'08032344578'\u001b[0m\u001b[1;33m)\u001b[0m\u001b[1;33m,\u001b[0m \u001b[1;33m(\u001b[0m\u001b[1;34m'Collins Odoh-Ifaenyi'\u001b[0m\u001b[1;33m,\u001b[0m \u001b[1;34m'codoh-ifeanyi@mtn.com'\u001b[0m\u001b[1;33m,\u001b[0m \u001b[1;34m'Abuja'\u001b[0m\u001b[1;33m,\u001b[0m \u001b[1;34m'0806739029'\u001b[0m\u001b[1;33m)\u001b[0m\u001b[1;33m,\u001b[0m \u001b[1;33m(\u001b[0m\u001b[1;34m'Chibundum Umeh'\u001b[0m\u001b[1;33m,\u001b[0m \u001b[1;34m'cumeh@mtn.com'\u001b[0m\u001b[1;33m,\u001b[0m \u001b[1;34m'Owerri'\u001b[0m\u001b[1;33m,\u001b[0m \u001b[1;34m'08034937123'\u001b[0m\u001b[1;33m)\u001b[0m\u001b[1;33m,\u001b[0m \u001b[1;33m(\u001b[0m\u001b[1;34m'Clinto Okpara'\u001b[0m\u001b[1;33m,\u001b[0m \u001b[1;34m'cokpara@mtn.com'\u001b[0m\u001b[1;33m,\u001b[0m \u001b[1;34m'Kaduna'\u001b[0m\u001b[1;33m,\u001b[0m \u001b[1;34m'08068381138'\u001b[0m\u001b[1;33m)\u001b[0m\u001b[1;33m\u001b[0m\u001b[1;33m\u001b[0m\u001b[0m\n\u001b[0;32m     56\u001b[0m \u001b[1;33m\u001b[0m\u001b[0m\n\u001b[1;32m---> 57\u001b[1;33m \u001b[0mcursor\u001b[0m\u001b[1;33m.\u001b[0m\u001b[0mexecute\u001b[0m\u001b[1;33m(\u001b[0m\u001b[0minsert_query\u001b[0m\u001b[1;33m,\u001b[0m \u001b[0mvalues\u001b[0m\u001b[1;33m)\u001b[0m\u001b[1;33m\u001b[0m\u001b[1;33m\u001b[0m\u001b[0m\n\u001b[0m\u001b[0;32m     58\u001b[0m \u001b[0mconn\u001b[0m\u001b[1;33m.\u001b[0m\u001b[0mcommit\u001b[0m\u001b[1;33m(\u001b[0m\u001b[1;33m)\u001b[0m\u001b[1;33m\u001b[0m\u001b[1;33m\u001b[0m\u001b[0m\n\u001b[0;32m     59\u001b[0m \u001b[1;33m\u001b[0m\u001b[0m\n",
      "\u001b[1;31mTypeError\u001b[0m: not all arguments converted during string formatting"
     ]
    }
   ],
   "source": [
    "import pandas as pd\n",
    "import psycopg2\n",
    "\n",
    "customer_info = {\"Name\": [\"Favor Okpara-Ngbo\", \"Joshua Asekhauno\", \"Collins Odoh-Ifeanyi\", \"Chibundum Umeh\", \"Clinto Okpara\"], \n",
    "  \n",
    "                 \"Email\": [\"fokpara-ngbo@mtn.com\", \"jasekhauno@mtn.com\", \"codoh-ifeanyi@mtn.com\", \"cumeh@mtn.com\", \"cokpara@mtn.com\"], \n",
    " \n",
    "                 \"State of Residence\": [\"Lagos\", \"Portharcourt\", \"Abuja\", \"Owerri\", \"Kaduna\"],\n",
    "   \n",
    "                 \"Mobile\": [\"08038212938\", \"080374930210\", \"08067392029\",\"0803493712348\", \"08068381138\"]}\n",
    "info = pd.DataFrame(customer_info)\n",
    "info\n",
    "\n",
    "conn = psycopg2.connect(\n",
    "    host=\"localhost\",\n",
    "    port=\"5432\",\n",
    "    user=\"postgres\",\n",
    "    password=\"csc101\"\n",
    ")\n",
    "\n",
    "\n",
    "new_db_name = \"mtn_nigeria2\"\n",
    "conn.autocommit = True\n",
    "cursor = conn.cursor()\n",
    "cursor.execute(f\"CREATE DATABASE {new_db_name};\")\n",
    "\n",
    "cursor.close()\n",
    "conn.close()\n",
    "\n",
    "conn = psycopg2.connect(\n",
    "    host=\"localhost\",\n",
    "    port=\"5432\",\n",
    "    database=\"mtn_nigeria2\",\n",
    "    user=\"postgres\",\n",
    "    password=\"csc101\"\n",
    ")\n",
    "\n",
    "cursor = conn.cursor()\n",
    "\n",
    "create_table_query = '''\n",
    "    CREATE TABLE customer_info2 (\n",
    "        name varchar,\n",
    "        email varchar,\n",
    "        state_of_residence varchar,\n",
    "        mobile varchar )\n",
    "'''\n",
    "cursor.execute(create_table_query)\n",
    "conn.commit()\n",
    "\n",
    "insert_query = '''\n",
    "    INSERT INTO customer_info2 (name, email, state_of_residence, mobile)\n",
    "    VALUES (%s, %s, %s, %s)\n",
    "'''\n",
    "\n",
    "values = ('Favour Okpara-Ngbo', 'fokpara-ngbo@mtn.com', 'Lagos', '08038212938'), ('Joshua Asekhauno', 'jasekhuano@mtn.com', 'Port-Harcourt', '08032344578'), ('Collins Odoh-Ifaenyi', 'codoh-ifeanyi@mtn.com', 'Abuja', '0806739029'), ('Chibundum Umeh', 'cumeh@mtn.com', 'Owerri', '08034937123'), ('Clinto Okpara', 'cokpara@mtn.com', 'Kaduna', '08068381138')\n",
    "\n",
    "cursor.execute(insert_query, values)\n",
    "conn.commit()\n",
    "\n",
    "cursor.close()\n",
    "conn.close()"
   ]
  },
  {
   "cell_type": "markdown",
   "metadata": {},
   "source": [
    "# Class Project II"
   ]
  },
  {
   "cell_type": "markdown",
   "metadata": {},
   "source": [
    "# <ul>\n",
    "    <li>Create a database called <b><i>comp_sci_dpt</i></b></li>\n",
    "<li>Create a table called <b><i>csc102_class_list</i></b></li>\n",
    "<li>Download the class list .csv file from e-learning</li>\n",
    "<li>Insert the the class list into the database</li>\n",
    "<li>Dump the database and class list table</li>\n",
    "<li>Commit the python code and dumped database to your GitHub (Week 14)</li>\n",
    "</ul>\n"
   ]
  },
  {
   "cell_type": "code",
   "execution_count": 22,
   "metadata": {},
   "outputs": [
    {
     "ename": "DuplicateDatabase",
     "evalue": "database \"comp_sci_dpt\" already exists\n",
     "output_type": "error",
     "traceback": [
      "\u001b[1;31m---------------------------------------------------------------------------\u001b[0m",
      "\u001b[1;31mDuplicateDatabase\u001b[0m                         Traceback (most recent call last)",
      "\u001b[1;32m<ipython-input-22-b5b42e0ff188>\u001b[0m in \u001b[0;36m<module>\u001b[1;34m\u001b[0m\n\u001b[0;32m     12\u001b[0m \u001b[0mcursor\u001b[0m \u001b[1;33m=\u001b[0m \u001b[0mconn\u001b[0m\u001b[1;33m.\u001b[0m\u001b[0mcursor\u001b[0m\u001b[1;33m(\u001b[0m\u001b[1;33m)\u001b[0m\u001b[1;33m\u001b[0m\u001b[1;33m\u001b[0m\u001b[0m\n\u001b[0;32m     13\u001b[0m \u001b[1;33m\u001b[0m\u001b[0m\n\u001b[1;32m---> 14\u001b[1;33m \u001b[0mcursor\u001b[0m\u001b[1;33m.\u001b[0m\u001b[0mexecute\u001b[0m\u001b[1;33m(\u001b[0m\u001b[1;34mf\"CREATE DATABASE {new_db_name};\"\u001b[0m\u001b[1;33m)\u001b[0m\u001b[1;33m\u001b[0m\u001b[1;33m\u001b[0m\u001b[0m\n\u001b[0m\u001b[0;32m     15\u001b[0m \u001b[0mcursor\u001b[0m\u001b[1;33m.\u001b[0m\u001b[0mclose\u001b[0m\u001b[1;33m(\u001b[0m\u001b[1;33m)\u001b[0m\u001b[1;33m\u001b[0m\u001b[1;33m\u001b[0m\u001b[0m\n\u001b[0;32m     16\u001b[0m \u001b[0mconn\u001b[0m\u001b[1;33m.\u001b[0m\u001b[0mclose\u001b[0m\u001b[1;33m(\u001b[0m\u001b[1;33m)\u001b[0m\u001b[1;33m\u001b[0m\u001b[1;33m\u001b[0m\u001b[0m\n",
      "\u001b[1;31mDuplicateDatabase\u001b[0m: database \"comp_sci_dpt\" already exists\n"
     ]
    }
   ],
   "source": [
    "import psycopg2\n",
    "#creating a db\n",
    "conn = psycopg2.connect(\n",
    "    host=\"localhost\",\n",
    "    port=\"5432\",\n",
    "    user=\"postgres\",\n",
    "    password=\"csc101\"\n",
    ")\n",
    "\n",
    "new_db_name = \"comp_sci_dpt\"\n",
    "conn.autocommit = True\n",
    "cursor = conn.cursor()\n",
    "\n",
    "cursor.execute(f\"CREATE DATABASE {new_db_name};\")\n",
    "cursor.close()\n",
    "conn.close()\n",
    "\n",
    "#creating a tb\n",
    "conn = psycopg2.connect(\n",
    "    host=\"localhost\",\n",
    "    port=\"5432\",\n",
    "    database=\"comp_sci_dpt\",\n",
    "    user=\"postgres\",\n",
    "    password=\"csc101\"\n",
    ")\n",
    "\n",
    "cursor = conn.cursor()\n",
    "create_table_query = '''\n",
    "    CREATE TABLE csc102_class_list (\n",
    "        name varchar,\n",
    "        email varchar,\n",
    "        mat_no varchar  )\n",
    "'''\n",
    "cursor.execute(create_table_query)\n",
    "conn.commit()\n",
    "cursor.close()\n",
    "conn.close()\n",
    "\n",
    "#inputing values\n",
    "conn = psycopg2.connect(\n",
    "    host=\"localhost\",\n",
    "    port=\"5432\",\n",
    "    database=\"comp_sci_dpt\",\n",
    "    user=\"postgres\",\n",
    "    password=\"csc101\"\n",
    ")\n",
    "cursor = conn.cursor()\n",
    "\n",
    "insert_query = '''\n",
    "    INSERT INTO csc102_class_list (firstname, middlename , surname)\n",
    "    VALUES (%s, %s, %s)\n",
    "'''\n",
    "\n",
    "values = ('Oladimeji', 'Abdul-Matin', 'ABANIWONNDA')\n",
    "\n",
    "cursor.execute(insert_query, values)\n",
    "conn.commit()\n",
    "cursor.close()\n",
    "conn.close()"
   ]
  },
  {
   "cell_type": "code",
   "execution_count": null,
   "metadata": {},
   "outputs": [],
   "source": []
  }
 ],
 "metadata": {
  "kernelspec": {
   "display_name": "Python 3",
   "language": "python",
   "name": "python3"
  },
  "language_info": {
   "codemirror_mode": {
    "name": "ipython",
    "version": 3
   },
   "file_extension": ".py",
   "mimetype": "text/x-python",
   "name": "python",
   "nbconvert_exporter": "python",
   "pygments_lexer": "ipython3",
   "version": "3.8.5"
  }
 },
 "nbformat": 4,
 "nbformat_minor": 4
}
