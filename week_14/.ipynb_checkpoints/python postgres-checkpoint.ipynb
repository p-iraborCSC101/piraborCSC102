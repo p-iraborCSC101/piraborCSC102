{
 "cells": [
  {
   "cell_type": "markdown",
   "metadata": {},
   "source": [
    "# CONNECTING PYTHON WITH POSTGRES DATABASE "
   ]
  },
  {
   "cell_type": "markdown",
   "metadata": {},
   "source": [
    "### 1. CREATE A DATABSE student_profile"
   ]
  },
  {
   "cell_type": "code",
   "execution_count": 75,
   "metadata": {},
   "outputs": [
    {
     "ename": "DuplicateDatabase",
     "evalue": "database \"student_profile\" already exists\n",
     "output_type": "error",
     "traceback": [
      "\u001b[1;31m---------------------------------------------------------------------------\u001b[0m",
      "\u001b[1;31mDuplicateDatabase\u001b[0m                         Traceback (most recent call last)",
      "\u001b[1;32m<ipython-input-75-11f90de232ba>\u001b[0m in \u001b[0;36m<module>\u001b[1;34m\u001b[0m\n\u001b[0;32m     13\u001b[0m \u001b[0mconn\u001b[0m\u001b[1;33m.\u001b[0m\u001b[0mautocommit\u001b[0m \u001b[1;33m=\u001b[0m \u001b[1;32mTrue\u001b[0m\u001b[1;33m\u001b[0m\u001b[1;33m\u001b[0m\u001b[0m\n\u001b[0;32m     14\u001b[0m \u001b[0mcursor\u001b[0m \u001b[1;33m=\u001b[0m \u001b[0mconn\u001b[0m\u001b[1;33m.\u001b[0m\u001b[0mcursor\u001b[0m\u001b[1;33m(\u001b[0m\u001b[1;33m)\u001b[0m\u001b[1;33m\u001b[0m\u001b[1;33m\u001b[0m\u001b[0m\n\u001b[1;32m---> 15\u001b[1;33m \u001b[0mcursor\u001b[0m\u001b[1;33m.\u001b[0m\u001b[0mexecute\u001b[0m\u001b[1;33m(\u001b[0m\u001b[1;34mf\"CREATE DATABASE {new_db_name};\"\u001b[0m\u001b[1;33m)\u001b[0m\u001b[1;33m\u001b[0m\u001b[1;33m\u001b[0m\u001b[0m\n\u001b[0m\u001b[0;32m     16\u001b[0m \u001b[1;33m\u001b[0m\u001b[0m\n\u001b[0;32m     17\u001b[0m \u001b[1;31m#cursor.close()\u001b[0m\u001b[1;33m\u001b[0m\u001b[1;33m\u001b[0m\u001b[1;33m\u001b[0m\u001b[0m\n",
      "\u001b[1;31mDuplicateDatabase\u001b[0m: database \"student_profile\" already exists\n"
     ]
    }
   ],
   "source": [
    "import psycopg2\n",
    "\n",
    "# Establish a connection to the PostgreSQL server\n",
    "conn = psycopg2.connect(\n",
    "    host=\"localhost\",\n",
    "    port=\"5432\",\n",
    "    user=\"postgres\",\n",
    "    password=\"csc101\"\n",
    ")\n",
    "\n",
    "# Create a new database\n",
    "new_db_name = \"student.profile\"\n",
    "conn.autocommit = True\n",
    "cursor = conn.cursor()\n",
    "cursor.execute(f\"CREATE DATABASE {new_db_name};\")\n",
    "\n",
    "cursor.close()\n",
    "\n",
    "\n",
    "# Close the connection\n",
    "conn.close()"
   ]
  },
  {
   "cell_type": "markdown",
   "metadata": {},
   "source": [
    "### 2. CREATE A TABLE student_info"
   ]
  },
  {
   "cell_type": "code",
   "execution_count": null,
   "metadata": {},
   "outputs": [],
   "source": [
    "# Establish a connection to the PostgreSQL server\n",
    "conn = psycopg2.connect(\n",
    "    host=\"localhost\",\n",
    "    port=\"5432\",\n",
    "    database=\"student_profile\",\n",
    "    user=\"postgres\",\n",
    "    password=\"csc101\"\n",
    ")\n",
    "# Create a cursor object\n",
    "cursor = conn.cursor()\n",
    "\n",
    "# Define the CREATE TABLE statement\n",
    "create_table_query = '''\n",
    "    CREATE TABLE student_info (\n",
    "        name varchar,\n",
    "        email varchar,\n",
    "        mat_no varchar  )\n",
    "'''\n",
    "\n",
    "# Execute the CREATE TABLE statement\n",
    "cursor.execute(create_table_query)\n",
    "\n",
    "\n",
    "# Commit the changes\n",
    "conn.commit()\n",
    "\n",
    "# Close the cursor and connection\n",
    "cursor.close()\n",
    "conn.close()"
   ]
  },
  {
   "cell_type": "markdown",
   "metadata": {},
   "source": [
    "### 3. INSERT INTO TABLE student_info"
   ]
  },
  {
   "cell_type": "code",
   "execution_count": 80,
   "metadata": {},
   "outputs": [],
   "source": [
    "import psycopg2\n",
    "\n",
    "# Establish a connection to the PostgreSQL server\n",
    "conn = psycopg2.connect(\n",
    "    host=\"localhost\",\n",
    "    port=\"5432\",\n",
    "    database=\"student_profile\",\n",
    "    user=\"postgres\",\n",
    "    password=\"csc101\"\n",
    ")\n",
    "\n",
    "# Create a cursor object\n",
    "cursor = conn.cursor()\n",
    "\n",
    "# Define the INSERT statement\n",
    "insert_query = '''\n",
    "    INSERT INTO student_info (name, email, mat_no)\n",
    "    VALUES (%s, %s, %s)\n",
    "'''\n",
    "\n",
    "# Define the values to be inserted\n",
    "values = ('Ade Jones', 'ajones@pau.edu.ng', '121234222')\n",
    "\n",
    "# Execute the INSERT statement\n",
    "cursor.execute(insert_query, values)\n",
    "\n",
    "# Commit the changes\n",
    "conn.commit()\n",
    "\n",
    "# Close the cursor and connection\n",
    "cursor.close()\n",
    "conn.close()"
   ]
  },
  {
   "cell_type": "markdown",
   "metadata": {},
   "source": [
    "### 4. SELECT ALL FROM student_info"
   ]
  },
  {
   "cell_type": "code",
   "execution_count": 81,
   "metadata": {},
   "outputs": [
    {
     "name": "stdout",
     "output_type": "stream",
     "text": [
      "Ade Jones | ajones@pau.edu.ng | 121234222\n",
      "Ade Jones | ajones@pau.edu.ng | 121234222\n",
      "Wale Jones | ajones@pau.edu.ng | 121234222\n",
      "Wale Jones | ajones@pau.edu.ng | 121234222\n"
     ]
    }
   ],
   "source": [
    "import psycopg2\n",
    "\n",
    "# Establish a connection to the PostgreSQL server\n",
    "conn = psycopg2.connect(\n",
    "    host=\"localhost\",\n",
    "    port=\"5432\",\n",
    "    database=\"student_profile\",\n",
    "    user=\"postgres\",\n",
    "    password=\"csc101\"\n",
    ")\n",
    "\n",
    "# Create a cursor object\n",
    "cursor = conn.cursor()\n",
    "\n",
    "# Define the SELECT statement\n",
    "select_query = \"SELECT * FROM student_info;\"\n",
    "\n",
    "# Execute the SELECT statement\n",
    "cursor.execute(select_query)\n",
    "\n",
    "# Fetch all the rows from the result set\n",
    "rows = cursor.fetchall()\n",
    "\n",
    "# Process the fetched rows\n",
    "for row in rows:\n",
    "    # Access individual columns using index or column names\n",
    "    column1_value = row[0]\n",
    "    column2_value = row[1]\n",
    "    column3_value = row[2]\n",
    "    \n",
    "    print(f\"{column1_value} | {column2_value} | {column3_value}\")\n",
    "\n",
    "# Close the cursor and connection\n",
    "cursor.close()\n",
    "conn.close()\n"
   ]
  },
  {
   "cell_type": "markdown",
   "metadata": {},
   "source": [
    "### 5. DELETE FROM student_info"
   ]
  },
  {
   "cell_type": "code",
   "execution_count": 82,
   "metadata": {},
   "outputs": [],
   "source": [
    "import psycopg2\n",
    "\n",
    "# Establish a connection to the PostgreSQL server\n",
    "conn = psycopg2.connect(\n",
    "    host=\"localhost\",\n",
    "    port=\"5432\",\n",
    "    database=\"student_profile\",\n",
    "    user=\"postgres\",\n",
    "    password=\"csc101\"\n",
    ")\n",
    "\n",
    "# Create a cursor object\n",
    "cursor = conn.cursor()\n",
    "\n",
    "# Define the DELETE statement\n",
    "delete_query = \"DELETE FROM student_info;\"\n",
    "\n",
    "# Execute the DELETE statement\n",
    "cursor.execute(delete_query)\n",
    "\n",
    "# Commit the changes\n",
    "conn.commit()\n",
    "\n",
    "# Close the cursor and connection\n",
    "cursor.close()\n",
    "conn.close()\n"
   ]
  },
  {
   "cell_type": "markdown",
   "metadata": {},
   "source": [
    "# CLASS PROJECT I\n",
    "\n",
    "\n"
   ]
  },
  {
   "cell_type": "markdown",
   "metadata": {},
   "source": [
    "<ul>\n",
    "    <li>Create a database called <b><i>mtn_nigeria</i></b></li>\n",
    "<li>Create a table called <b><i>customer_info</i></b></li>\n",
    "<li>Insert the following customer information into the database</li>\n",
    "</ul>\n"
   ]
  },
  {
   "cell_type": "code",
   "execution_count": 73,
   "metadata": {},
   "outputs": [
    {
     "data": {
      "text/html": [
       "<div>\n",
       "<style scoped>\n",
       "    .dataframe tbody tr th:only-of-type {\n",
       "        vertical-align: middle;\n",
       "    }\n",
       "\n",
       "    .dataframe tbody tr th {\n",
       "        vertical-align: top;\n",
       "    }\n",
       "\n",
       "    .dataframe thead th {\n",
       "        text-align: right;\n",
       "    }\n",
       "</style>\n",
       "<table border=\"1\" class=\"dataframe\">\n",
       "  <thead>\n",
       "    <tr style=\"text-align: right;\">\n",
       "      <th></th>\n",
       "      <th>Name</th>\n",
       "      <th>Email</th>\n",
       "      <th>State of Residence</th>\n",
       "      <th>Mobile</th>\n",
       "    </tr>\n",
       "  </thead>\n",
       "  <tbody>\n",
       "    <tr>\n",
       "      <th>0</th>\n",
       "      <td>Favor Okpara-Ngbo</td>\n",
       "      <td>fokpara-ngbo@mtn.com</td>\n",
       "      <td>Lagos</td>\n",
       "      <td>08038212938</td>\n",
       "    </tr>\n",
       "    <tr>\n",
       "      <th>1</th>\n",
       "      <td>Joshua Asekhauno</td>\n",
       "      <td>jasekhauno@mtn.com</td>\n",
       "      <td>Portharcourt</td>\n",
       "      <td>080374930210</td>\n",
       "    </tr>\n",
       "    <tr>\n",
       "      <th>2</th>\n",
       "      <td>Collins Odoh-Ifeanyi</td>\n",
       "      <td>codoh-ifeanyi@mtn.com</td>\n",
       "      <td>Abuja</td>\n",
       "      <td>08067392029</td>\n",
       "    </tr>\n",
       "    <tr>\n",
       "      <th>3</th>\n",
       "      <td>Chibundum Umeh</td>\n",
       "      <td>cumeh@mtn.com</td>\n",
       "      <td>Owerri</td>\n",
       "      <td>0803493712348</td>\n",
       "    </tr>\n",
       "    <tr>\n",
       "      <th>4</th>\n",
       "      <td>Clinto Okpara</td>\n",
       "      <td>cokpara@mtn.com</td>\n",
       "      <td>Kaduna</td>\n",
       "      <td>08068381138</td>\n",
       "    </tr>\n",
       "  </tbody>\n",
       "</table>\n",
       "</div>"
      ],
      "text/plain": [
       "                   Name                  Email State of Residence  \\\n",
       "0     Favor Okpara-Ngbo   fokpara-ngbo@mtn.com              Lagos   \n",
       "1      Joshua Asekhauno     jasekhauno@mtn.com       Portharcourt   \n",
       "2  Collins Odoh-Ifeanyi  codoh-ifeanyi@mtn.com              Abuja   \n",
       "3        Chibundum Umeh          cumeh@mtn.com             Owerri   \n",
       "4         Clinto Okpara        cokpara@mtn.com             Kaduna   \n",
       "\n",
       "          Mobile  \n",
       "0    08038212938  \n",
       "1   080374930210  \n",
       "2    08067392029  \n",
       "3  0803493712348  \n",
       "4    08068381138  "
      ]
     },
     "execution_count": 73,
     "metadata": {},
     "output_type": "execute_result"
    }
   ],
   "source": [
    "import pandas as pd\n",
    "\n",
    "customer_info = {\"Name\": [\"Favor Okpara-Ngbo\", \"Joshua Asekhauno\", \"Collins Odoh-Ifeanyi\", \"Chibundum Umeh\", \"Clinto Okpara\"], \n",
    "  \"Email\": [\"fokpara-ngbo@mtn.com\", \"jasekhauno@mtn.com\", \"codoh-ifeanyi@mtn.com\", \"cumeh@mtn.com\", \"cokpara@mtn.com\"], \n",
    "  \"State of Residence\": [\"Lagos\", \"Portharcourt\", \"Abuja\", \"Owerri\", \"Kaduna\"],\n",
    "   \"Mobile\": [\"08038212938\", \"080374930210\", \"08067392029\",\"0803493712348\", \"08068381138\"]}\n",
    "info = pd.DataFrame(customer_info)\n",
    "info"
   ]
  },
  {
   "cell_type": "markdown",
   "metadata": {},
   "source": [
    "# Class Project II"
   ]
  },
  {
   "cell_type": "markdown",
   "metadata": {},
   "source": [
    "<ul>\n",
    "    <li>Create a database called <b><i>comp_sci_dpt</i></b></li>\n",
    "<li>Create a table called <b><i>csc102_class_list</i></b></li>\n",
    "<li>Download the class list .csv file from e-learning</li>\n",
    "<li>Insert the the class list into the database</li>\n",
    "<li>Dump the database and class list table</li>\n",
    "<li>Commit the python code and dumped database to your GitHub (Week 14)</li>\n",
    "</ul>\n"
   ]
  },
  {
   "cell_type": "code",
   "execution_count": null,
   "metadata": {},
   "outputs": [],
   "source": []
  }
 ],
 "metadata": {
  "kernelspec": {
   "display_name": "Python 3",
   "language": "python",
   "name": "python3"
  },
  "language_info": {
   "codemirror_mode": {
    "name": "ipython",
    "version": 3
   },
   "file_extension": ".py",
   "mimetype": "text/x-python",
   "name": "python",
   "nbconvert_exporter": "python",
   "pygments_lexer": "ipython3",
   "version": "3.8.5"
  }
 },
 "nbformat": 4,
 "nbformat_minor": 4
}
