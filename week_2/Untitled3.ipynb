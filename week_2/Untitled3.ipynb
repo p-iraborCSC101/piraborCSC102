{
 "cells": [
  {
   "cell_type": "code",
   "execution_count": null,
   "metadata": {},
   "outputs": [],
   "source": [
    "tuple = (\"ekiti\", 750, \"osho\", 250, \"akure\", 500)\n",
    "\n",
    "print(tuple)\n",
    "print(tuple[-1])\n",
    "print(tuple[2:4])\n",
    "print(tuple[3:])\n",
    "print(tuple )"
   ]
  }
 ],
 "metadata": {
  "kernelspec": {
   "display_name": "Python 3",
   "language": "python",
   "name": "python3"
  },
  "language_info": {
   "codemirror_mode": {
    "name": "ipython",
    "version": 3
   },
   "file_extension": ".py",
   "mimetype": "text/x-python",
   "name": "python",
   "nbconvert_exporter": "python",
   "pygments_lexer": "ipython3",
   "version": "3.8.3"
  }
 },
 "nbformat": 4,
 "nbformat_minor": 4
}
