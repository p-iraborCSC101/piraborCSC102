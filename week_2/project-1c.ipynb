{
 "cells": [
  {
   "cell_type": "code",
   "execution_count": 1,
   "metadata": {},
   "outputs": [
    {
     "name": "stdout",
     "output_type": "stream",
     "text": [
      "enter name 1paula\n",
      "enter name 2nicole\n",
      "enter age 116\n",
      "enter age 219\n",
      "sentence 1 is paula and 19\n",
      "sentence 2 is nicole and 16\n"
     ]
    }
   ],
   "source": [
    "n1 = input(\"enter name 1\")\n",
    "n2 = input(\"enter name 2\")\n",
    "\n",
    "a1 = input(\"enter age 1\")\n",
    "a2 = input(\"enter age 2\")\n",
    "\n",
    "print(f\"sentence 1 is {n1} and {a2}\")\n",
    "print(f\"sentence 2 is {n2} and {a1}\")\n",
    "      "
   ]
  },
  {
   "cell_type": "code",
   "execution_count": null,
   "metadata": {},
   "outputs": [],
   "source": []
  }
 ],
 "metadata": {
  "kernelspec": {
   "display_name": "Python 3",
   "language": "python",
   "name": "python3"
  },
  "language_info": {
   "codemirror_mode": {
    "name": "ipython",
    "version": 3
   },
   "file_extension": ".py",
   "mimetype": "text/x-python",
   "name": "python",
   "nbconvert_exporter": "python",
   "pygments_lexer": "ipython3",
   "version": "3.8.3"
  }
 },
 "nbformat": 4,
 "nbformat_minor": 4
}
