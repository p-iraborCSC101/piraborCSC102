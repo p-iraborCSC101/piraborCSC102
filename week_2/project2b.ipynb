{
 "cells": [
  {
   "cell_type": "code",
   "execution_count": 4,
   "metadata": {},
   "outputs": [
    {
     "name": "stdout",
     "output_type": "stream",
     "text": [
      "enter a: 2\n",
      "enter b: 17\n",
      "enter c: 9\n",
      "This equation has 2 real solutions\n",
      "the roots are -0.5672700343359414 and -7.932729965664059\n"
     ]
    }
   ],
   "source": [
    "a = int(input('enter a: '))\n",
    "b = int(input('enter b: '))\n",
    "c = int(input('enter c: '))\n",
    "\n",
    "D = b ** 2 - (4 * a * c)\n",
    "\n",
    "if D == 0:\n",
    "    print('This equation has one real solution')\n",
    "    x = (-b) / (2 * a)\n",
    "    print(f'the root of this equation is {x}')\n",
    "elif D > 0:\n",
    "    print('This equation has 2 real solutions')\n",
    "    x1 = ((-b) + (D ** 0.5)) / (2 * a)\n",
    "    x2 = ((-b) - (D ** 0.5)) / (2 * a)\n",
    "    print(f'the roots are {x1} and {x2}')\n",
    "else:\n",
    "          print(f'no real solution')"
   ]
  },
  {
   "cell_type": "code",
   "execution_count": null,
   "metadata": {},
   "outputs": [],
   "source": []
  },
  {
   "cell_type": "code",
   "execution_count": null,
   "metadata": {},
   "outputs": [],
   "source": []
  }
 ],
 "metadata": {
  "kernelspec": {
   "display_name": "Python 3",
   "language": "python",
   "name": "python3"
  },
  "language_info": {
   "codemirror_mode": {
    "name": "ipython",
    "version": 3
   },
   "file_extension": ".py",
   "mimetype": "text/x-python",
   "name": "python",
   "nbconvert_exporter": "python",
   "pygments_lexer": "ipython3",
   "version": "3.8.3"
  }
 },
 "nbformat": 4,
 "nbformat_minor": 4
}
