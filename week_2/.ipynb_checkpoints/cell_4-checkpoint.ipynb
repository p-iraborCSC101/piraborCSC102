{
 "cells": [
  {
   "cell_type": "code",
   "execution_count": 1,
   "metadata": {},
   "outputs": [
    {
     "name": "stdout",
     "output_type": "stream",
     "text": [
      "('ekiti', 750, 'osho', 250, 'akure', 500)\n",
      "500\n",
      "('osho', 250)\n",
      "(250, 'akure', 500)\n",
      "('ekiti', 750, 'osho', 250, 'akure', 500, 'ekiti', 750, 'osho', 250, 'akure', 500, 'ekiti', 750, 'osho', 250, 'akure', 500)\n"
     ]
    }
   ],
   "source": [
    "tuple = (\"ekiti\", 750, \"osho\", 250, \"akure\", 500)\n",
    "\n",
    "print(tuple)\n",
    "print(tuple[-1])\n",
    "print(tuple[2:4])\n",
    "print(tuple[3:])\n",
    "print(tuple * 3)\n"
   ]
  },
  {
   "cell_type": "code",
   "execution_count": null,
   "metadata": {},
   "outputs": [],
   "source": []
  }
 ],
 "metadata": {
  "kernelspec": {
   "display_name": "Python 3",
   "language": "python",
   "name": "python3"
  },
  "language_info": {
   "codemirror_mode": {
    "name": "ipython",
    "version": 3
   },
   "file_extension": ".py",
   "mimetype": "text/x-python",
   "name": "python",
   "nbconvert_exporter": "python",
   "pygments_lexer": "ipython3",
   "version": "3.8.3"
  }
 },
 "nbformat": 4,
 "nbformat_minor": 4
}
