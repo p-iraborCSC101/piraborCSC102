{
 "cells": [
  {
   "cell_type": "code",
   "execution_count": 1,
   "metadata": {},
   "outputs": [
    {
     "ename": "SyntaxError",
     "evalue": "EOL while scanning string literal (<ipython-input-1-540752687b10>, line 15)",
     "output_type": "error",
     "traceback": [
      "\u001b[1;36m  File \u001b[1;32m\"<ipython-input-1-540752687b10>\"\u001b[1;36m, line \u001b[1;32m15\u001b[0m\n\u001b[1;33m    print(f'the roots are {x1} and {x2})\u001b[0m\n\u001b[1;37m                                        ^\u001b[0m\n\u001b[1;31mSyntaxError\u001b[0m\u001b[1;31m:\u001b[0m EOL while scanning string literal\n"
     ]
    }
   ],
   "source": [
    "a = int(input('enter a: '))\n",
    "b = int(input('enter b: '))\n",
    "c = int(input('enter c: '))\n",
    "\n",
    "D = b ** 2 - (4 * a * c)\n",
    "\n",
    "if D == 0:\n",
    "    print('This equation has one real solution')\n",
    "    x = (-b) / (2 * a)\n",
    "    print(f'the root of this equation is {x}')\n",
    "elif D > 0:\n",
    "    print('This equation has 2 real solutions')\n",
    "    x1 = ((-b) + (D ** 0.5)) / (2 * a)\n",
    "    x2 = ((-b) - (D ** 0.5)) / (2 * a)\n",
    "    print(f'the roots are {x1} and {x2}'')\n",
    "else:\n",
    "          print(f'no real solution')"
   ]
  },
  {
   "cell_type": "code",
   "execution_count": null,
   "metadata": {},
   "outputs": [],
   "source": []
  }
 ],
 "metadata": {
  "kernelspec": {
   "display_name": "Python 3",
   "language": "python",
   "name": "python3"
  },
  "language_info": {
   "codemirror_mode": {
    "name": "ipython",
    "version": 3
   },
   "file_extension": ".py",
   "mimetype": "text/x-python",
   "name": "python",
   "nbconvert_exporter": "python",
   "pygments_lexer": "ipython3",
   "version": "3.8.3"
  }
 },
 "nbformat": 4,
 "nbformat_minor": 4
}
