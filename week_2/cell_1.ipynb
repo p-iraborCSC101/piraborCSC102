{
 "cells": [
  {
   "cell_type": "code",
   "execution_count": 1,
   "metadata": {},
   "outputs": [
    {
     "name": "stdout",
     "output_type": "stream",
     "text": [
      "Enter your state of origin:NASARAWA\n",
      "Your state of origin is:  NASARAWA\n",
      "The first character is:  N\n",
      "The characters starting from 3rd to 5th are:  SAR\n",
      "The string starting from 3rd character is:  SARAWA\n",
      "State of origin two times  NASARAWANASARAWA\n"
     ]
    }
   ],
   "source": [
    "str = input(\"Enter your state of origin:\")\n",
    "\n",
    "print(\"Your state of origin is: \", str)\n",
    "print(\"The first character is: \", str[0])\n",
    "print(\"The characters starting from 3rd to 5th are: \", str[2:5])\n",
    "print(\"The string starting from 3rd character is: \", str[2:])\n",
    "print(\"State of origin two times \", str * 2)"
   ]
  },
  {
   "cell_type": "code",
   "execution_count": null,
   "metadata": {},
   "outputs": [],
   "source": []
  }
 ],
 "metadata": {
  "kernelspec": {
   "display_name": "Python 3",
   "language": "python",
   "name": "python3"
  },
  "language_info": {
   "codemirror_mode": {
    "name": "ipython",
    "version": 3
   },
   "file_extension": ".py",
   "mimetype": "text/x-python",
   "name": "python",
   "nbconvert_exporter": "python",
   "pygments_lexer": "ipython3",
   "version": "3.8.3"
  }
 },
 "nbformat": 4,
 "nbformat_minor": 4
}
