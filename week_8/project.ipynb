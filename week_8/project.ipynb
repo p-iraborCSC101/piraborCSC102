{
 "cells": [
  {
   "cell_type": "code",
   "execution_count": 1,
   "metadata": {},
   "outputs": [],
   "source": [
    "import random\n",
    "\n",
    "class Employee:\n",
    "    \n",
    "    def __init__(self, name):\n",
    "        self.name = name\n",
    "    \n",
    "    def check_employee(self):\n",
    "        \n",
    "        employees = [\"Mary Evans\", \"Eyo Ishan\", \"Durojaiye Dare\", \n",
    "                     \"Adams Ali\", \"Andrew Ugwu\", \"Stella Mankinde\", \"Jane Akibo\", \"Ago James\", \"Michell Taiwo\", \n",
    "                     \"Abraham Jones\" , \"Nicole Anide\", \"Kosi Korso\", \"Adele Martins\", \"Emmanuel Ojo\", \"Ajayi Fatima\"]\n",
    "        \n",
    "        if self.name in employees:\n",
    "            print('Person is an employee')\n",
    "        else:\n",
    "            print('Person is not an employee')\n",
    "            \n",
    "    def take_attendance(self):\n",
    "        \n",
    "        attendance = input('Is staff present or absent? ').lower()\n",
    "        \n",
    "        if attendance == 'present':\n",
    "            print('Staff is present')\n",
    "        elif attendance == 'absent':\n",
    "            print('Staff is absent')\n",
    "        else:\n",
    "            print('Invalid input')\n",
    "    \n",
    "    def assign_task(self):\n",
    "        \n",
    "        task = [\"Loading\", \"Transporting\", \"Reveiwing Orders\", \"Customer Service\", \"Delivering Items\"]\n",
    "        assignment = random.choice(task)\n",
    "        print('Your task is ', assignment)\n",
    "        \n",
    "    def refuse_access(self):\n",
    "        \n",
    "        employees = [\"Mary Evans\", \"Eyo Ishan\", \"Durojaiye Dare\", \n",
    "                     \"Adams Ali\", \"Andrew Ugwu\", \"Stella Mankinde\", \"Jane Akibo\", \"Ago James\", \"Michell Taiwo\", \n",
    "                     \"Abraham Jones\" , \"Nicole Anide\", \"Kosi Korso\", \"Adele Martins\", \"Emmanuel Ojo\", \"Ajayi Fatima\"]\n",
    "        \n",
    "        if self.name not in employees:\n",
    "            print('Access denied')\n",
    "        \n"
   ]
  },
  {
   "cell_type": "code",
   "execution_count": null,
   "metadata": {},
   "outputs": [],
   "source": []
  },
  {
   "cell_type": "code",
   "execution_count": null,
   "metadata": {},
   "outputs": [],
   "source": []
  }
 ],
 "metadata": {
  "kernelspec": {
   "display_name": "Python 3",
   "language": "python",
   "name": "python3"
  },
  "language_info": {
   "codemirror_mode": {
    "name": "ipython",
    "version": 3
   },
   "file_extension": ".py",
   "mimetype": "text/x-python",
   "name": "python",
   "nbconvert_exporter": "python",
   "pygments_lexer": "ipython3",
   "version": "3.8.3"
  }
 },
 "nbformat": 4,
 "nbformat_minor": 4
}
