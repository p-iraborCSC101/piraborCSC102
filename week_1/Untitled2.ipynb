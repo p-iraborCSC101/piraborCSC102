{
 "cells": [
  {
   "cell_type": "code",
   "execution_count": 5,
   "metadata": {},
   "outputs": [
    {
     "name": "stdout",
     "output_type": "stream",
     "text": [
      "\n",
      " Enter the principal amount: 2000\n",
      "\n",
      " Enter the time: 3\n",
      "\n",
      " Enter the rate: 20\n",
      "\n",
      " Simple Interest =  3200.0\n"
     ]
    }
   ],
   "source": [
    "P = int(input(\"\\n Enter the principal amount: \"))\n",
    "T = int(input(\"\\n Enter the time: \"))\n",
    "R = float(input(\"\\n Enter the rate: \"))\n",
    "\n",
    "SI = P * (1 + (R / 100) * T)\n",
    "print(\"\\n Simple Interest = \",SI)\n",
    "\n",
    "\n"
   ]
  },
  {
   "cell_type": "code",
   "execution_count": null,
   "metadata": {},
   "outputs": [],
   "source": []
  }
 ],
 "metadata": {
  "kernelspec": {
   "display_name": "Python 3",
   "language": "python",
   "name": "python3"
  },
  "language_info": {
   "codemirror_mode": {
    "name": "ipython",
    "version": 3
   },
   "file_extension": ".py",
   "mimetype": "text/x-python",
   "name": "python",
   "nbconvert_exporter": "python",
   "pygments_lexer": "ipython3",
   "version": "3.8.3"
  }
 },
 "nbformat": 4,
 "nbformat_minor": 4
}
