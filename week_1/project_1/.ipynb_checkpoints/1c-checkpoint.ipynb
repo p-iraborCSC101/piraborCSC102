{
 "cells": [
  {
   "cell_type": "code",
   "execution_count": 1,
   "metadata": {},
   "outputs": [
    {
     "name": "stdout",
     "output_type": "stream",
     "text": [
      "\n",
      " Enter the principal amount: 2000\n",
      "\n",
      " Enter the time: 30\n",
      "\n",
      " Enter the rate: 3\n",
      "\n",
      " Enter the number of times compunded: 365\n",
      "\n",
      "Annuity is  2.055655251354722e+44\n"
     ]
    }
   ],
   "source": [
    "PMT = int(input(\"\\n Enter the principal amount: \"))\n",
    "T = int(input(\"\\n Enter the time: \"))\n",
    "R = float(input(\"\\n Enter the rate: \"))\n",
    "N = int(input(\"\\n Enter the number of times compunded: \"))\n",
    "\n",
    "Annuity = PMT * ((1 + (R / N)) ** (N * T) - 1) / (R / N)\n",
    "print(\"\\nAnnuity is \", Annuity)\n"
   ]
  },
  {
   "cell_type": "code",
   "execution_count": null,
   "metadata": {},
   "outputs": [],
   "source": []
  }
 ],
 "metadata": {
  "kernelspec": {
   "display_name": "Python 3",
   "language": "python",
   "name": "python3"
  },
  "language_info": {
   "codemirror_mode": {
    "name": "ipython",
    "version": 3
   },
   "file_extension": ".py",
   "mimetype": "text/x-python",
   "name": "python",
   "nbconvert_exporter": "python",
   "pygments_lexer": "ipython3",
   "version": "3.8.3"
  }
 },
 "nbformat": 4,
 "nbformat_minor": 4
}
