{
 "cells": [
  {
   "cell_type": "code",
   "execution_count": 1,
   "metadata": {},
   "outputs": [
    {
     "name": "stdout",
     "output_type": "stream",
     "text": [
      "\n",
      " Enter the principal amount: 2\n",
      "\n",
      " Enter the time: 2\n",
      "\n",
      " Enter the rate: 2\n",
      "\n",
      " Enter the number of times compunded: 3\n",
      "\n",
      " Compound Interest =  42.86694101508914\n"
     ]
    }
   ],
   "source": [
    "A = int(input(\"\\n Enter the principal amount: \"))\n",
    "B = int(input(\"\\n Enter the time: \"))\n",
    "C = float(input(\"\\n Enter the rate: \"))\n",
    "N = int(input(\"\\n Enter the number of times compunded: \"))\n",
    "\n",
    "CI = A * (1 + (C / N)) ** (N * B)\n",
    "print(\"\\n Compound Interest = \",CI)\n"
   ]
  },
  {
   "cell_type": "code",
   "execution_count": null,
   "metadata": {},
   "outputs": [],
   "source": []
  }
 ],
 "metadata": {
  "kernelspec": {
   "display_name": "Python 3",
   "language": "python",
   "name": "python3"
  },
  "language_info": {
   "codemirror_mode": {
    "name": "ipython",
    "version": 3
   },
   "file_extension": ".py",
   "mimetype": "text/x-python",
   "name": "python",
   "nbconvert_exporter": "python",
   "pygments_lexer": "ipython3",
   "version": "3.8.3"
  }
 },
 "nbformat": 4,
 "nbformat_minor": 4
}
