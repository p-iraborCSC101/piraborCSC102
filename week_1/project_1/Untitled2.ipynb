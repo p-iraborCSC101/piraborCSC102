{
 "cells": [
  {
   "cell_type": "code",
   "execution_count": null,
   "metadata": {},
   "outputs": [],
   "source": [
    "PMT = int(input(\"\\n Enter the principal amount: \"))\n",
    "T = int(input(\"\\n Enter the time: \"))\n",
    "R = float(input(\"\\n Enter the rate: \"))\n",
    "N = int(input(\"\\n Enter the number of times compunded: \"))\n",
    "\n",
    "Annuity = PMT * ((1 + (R / N)) ** (N * T) - 1) / \n",
    "\n",
    "\n"
   ]
  }
 ],
 "metadata": {
  "kernelspec": {
   "display_name": "Python 3",
   "language": "python",
   "name": "python3"
  },
  "language_info": {
   "codemirror_mode": {
    "name": "ipython",
    "version": 3
   },
   "file_extension": ".py",
   "mimetype": "text/x-python",
   "name": "python",
   "nbconvert_exporter": "python",
   "pygments_lexer": "ipython3",
   "version": "3.8.3"
  }
 },
 "nbformat": 4,
 "nbformat_minor": 4
}
